{
 "cells": [
  {
   "cell_type": "code",
   "execution_count": 1,
   "metadata": {},
   "outputs": [],
   "source": [
    "import tensorflow as tf\n",
    "import numpy as np"
   ]
  },
  {
   "cell_type": "code",
   "execution_count": 2,
   "metadata": {},
   "outputs": [],
   "source": [
    "%matplotlib inline\n",
    "import matplotlib\n",
    "import matplotlib.pyplot as plt"
   ]
  },
  {
   "cell_type": "code",
   "execution_count": 5,
   "metadata": {},
   "outputs": [],
   "source": [
    "import random\n",
    "\n",
    "x1 = np.array([random.randint(0,50) for i in range (20)], dtype=np.float32)\n",
    "x2 = np.array([random.randint(90,140) for i in range(20)], dtype=np.float32)\n",
    "x3 = np.array([random.randint(180, 230) for i in range(20)], dtype = np.float32)\n",
    "\n",
    "random_x = np.concatenate((x1,x2,x3))\n"
   ]
  },
  {
   "cell_type": "code",
   "execution_count": 6,
   "metadata": {},
   "outputs": [
    {
     "data": {
      "text/plain": [
       "(60,)"
      ]
     },
     "execution_count": 6,
     "metadata": {},
     "output_type": "execute_result"
    }
   ],
   "source": [
    "random_x.shape"
   ]
  },
  {
   "cell_type": "code",
   "execution_count": 7,
   "metadata": {
    "scrolled": true
   },
   "outputs": [
    {
     "data": {
      "text/plain": [
       "<matplotlib.collections.PathCollection at 0x13bec60f0>"
      ]
     },
     "execution_count": 7,
     "metadata": {},
     "output_type": "execute_result"
    },
    {
     "data": {
      "image/png": "[encoded data removed]",
      "text/plain": [
       "<Figure size 432x288 with 1 Axes>"
      ]
     },
     "metadata": {
      "needs_background": "light"
     },
     "output_type": "display_data"
    }
   ],
   "source": [
    "plt.scatter(random_x, np.zeros_like(random_x),s=700,c='g',edgecolors='grey', alpha=0.4)"
   ]
  },
  {
   "cell_type": "code",
   "execution_count": 19,
   "metadata": {},
   "outputs": [],
   "source": [
    "def input_fn(random_x):\n",
    "    random_x = tf.expand_dims(random_x, axis=1)\n",
    "    return tf.train.limit_epochs(\n",
    "        tf.convert_to_tensor(random_x, dtype = tf.float32), num_epochs=1)"
   ]
  },
  {
   "cell_type": "code",
   "execution_count": 11,
   "metadata": {},
   "outputs": [
    {
     "name": "stdout",
     "output_type": "stream",
     "text": [
      "2.3.1\n"
     ]
    }
   ],
   "source": [
    "print(tf.__version__)"
   ]
  },
  {
   "cell_type": "code",
   "execution_count": 12,
   "metadata": {
    "scrolled": true
   },
   "outputs": [
    {
     "name": "stdout",
     "output_type": "stream",
     "text": [
      "INFO:tensorflow:Using default config.\n",
      "WARNING:tensorflow:Using temporary folder as model directory: /var/folders/9_/3m_lvmzs5t75xty5gvwr6wd558fj_g/T/tmp0jjl6ed5\n",
      "INFO:tensorflow:Using config: {'_model_dir': '/var/folders/9_/3m_lvmzs5t75xty5gvwr6wd558fj_g/T/tmp0jjl6ed5', '_tf_random_seed': None, '_save_summary_steps': 100, '_save_checkpoints_steps': None, '_save_checkpoints_secs': 600, '_session_config': allow_soft_placement: true\n",
      "graph_options {\n",
      "  rewrite_options {\n",
      "    meta_optimizer_iterations: ONE\n",
      "  }\n",
      "}\n",
      ", '_keep_checkpoint_max': 5, '_keep_checkpoint_every_n_hours': 10000, '_log_step_count_steps': 100, '_train_distribute': None, '_device_fn': None, '_protocol': None, '_eval_distribute': None, '_experimental_distribute': None, '_experimental_max_worker_delay_secs': None, '_session_creation_timeout_secs': 7200, '_service': None, '_cluster_spec': ClusterSpec({}), '_task_type': 'worker', '_task_id': 0, '_global_id_in_cluster': 0, '_master': '', '_evaluation_master': '', '_is_chief': True, '_num_ps_replicas': 0, '_num_worker_replicas': 1}\n"
     ]
    }
   ],
   "source": [
    "kmean_estimator = tf.compat.v1.estimator.experimental.KMeans(num_clusters=3, use_mini_batch= False)"
   ]
  },
  {
   "cell_type": "code",
   "execution_count": 20,
   "metadata": {
    "scrolled": false
   },
   "outputs": [
    {
     "name": "stdout",
     "output_type": "stream",
     "text": [
      "WARNING:tensorflow:From <ipython-input-19-647a9fc25745>:4: limit_epochs (from tensorflow.python.training.input) is deprecated and will be removed in a future version.\n",
      "Instructions for updating:\n",
      "Queue-based input pipelines have been replaced by `tf.data`. Use `tf.data.Dataset.from_tensors(tensor).repeat(num_epochs)`.\n",
      "WARNING:tensorflow:From /Users/sijia.li/py3_kernel/lib/python3.7/site-packages/tensorflow/python/training/input.py:112: RefVariable.count_up_to (from tensorflow.python.ops.variables) is deprecated and will be removed in a future version.\n",
      "Instructions for updating:\n",
      "Prefer Dataset.range instead.\n",
      "WARNING:tensorflow:From /Users/sijia.li/py3_kernel/lib/python3.7/site-packages/tensorflow/python/ops/variables.py:2573: count_up_to (from tensorflow.python.ops.state_ops) is deprecated and will be removed in a future version.\n",
      "Instructions for updating:\n",
      "Prefer Dataset.range instead.\n",
      "INFO:tensorflow:Calling model_fn.\n",
      "INFO:tensorflow:Done calling model_fn.\n",
      "INFO:tensorflow:Create CheckpointSaverHook.\n",
      "INFO:tensorflow:Graph was finalized.\n",
      "INFO:tensorflow:Running local_init_op.\n",
      "INFO:tensorflow:Done running local_init_op.\n",
      "INFO:tensorflow:Calling checkpoint listeners before saving checkpoint 0...\n",
      "INFO:tensorflow:Saving checkpoints for 0 into /var/folders/9_/3m_lvmzs5t75xty5gvwr6wd558fj_g/T/tmp0jjl6ed5/model.ckpt.\n",
      "INFO:tensorflow:Calling checkpoint listeners after saving checkpoint 0...\n",
      "INFO:tensorflow:Calling checkpoint listeners before saving checkpoint 1...\n",
      "INFO:tensorflow:Saving checkpoints for 1 into /var/folders/9_/3m_lvmzs5t75xty5gvwr6wd558fj_g/T/tmp0jjl6ed5/model.ckpt.\n",
      "INFO:tensorflow:Calling checkpoint listeners after saving checkpoint 1...\n",
      "WARNING:tensorflow:Training with estimator made no steps. Perhaps input is empty or misspecified.\n",
      "INFO:tensorflow:Loss for final step: None.\n",
      "INFO:tensorflow:Calling model_fn.\n",
      "INFO:tensorflow:Done calling model_fn.\n",
      "INFO:tensorflow:Starting evaluation at 2021-01-14T17:01:33Z\n",
      "INFO:tensorflow:Graph was finalized.\n",
      "INFO:tensorflow:Restoring parameters from /var/folders/9_/3m_lvmzs5t75xty5gvwr6wd558fj_g/T/tmp0jjl6ed5/model.ckpt-1\n",
      "INFO:tensorflow:Running local_init_op.\n",
      "INFO:tensorflow:Done running local_init_op.\n",
      "INFO:tensorflow:Evaluation [1/1]\n",
      "INFO:tensorflow:Inference Time : 0.27633s\n",
      "INFO:tensorflow:Finished evaluation at 2021-01-14-17:01:33\n",
      "INFO:tensorflow:Saving dict for global step 1: global_step = 1, loss = 277860.0, score = 277860.0\n",
      "INFO:tensorflow:Saving 'checkpoint_path' summary for global step 1: /var/folders/9_/3m_lvmzs5t75xty5gvwr6wd558fj_g/T/tmp0jjl6ed5/model.ckpt-1\n",
      "\n",
      "\n",
      "***********score: 277860.0\n",
      "INFO:tensorflow:Calling model_fn.\n",
      "INFO:tensorflow:Done calling model_fn.\n",
      "INFO:tensorflow:Create CheckpointSaverHook.\n",
      "INFO:tensorflow:Graph was finalized.\n",
      "INFO:tensorflow:Restoring parameters from /var/folders/9_/3m_lvmzs5t75xty5gvwr6wd558fj_g/T/tmp0jjl6ed5/model.ckpt-1\n",
      "WARNING:tensorflow:From /Users/sijia.li/py3_kernel/lib/python3.7/site-packages/tensorflow/python/training/saver.py:1077: get_checkpoint_mtimes (from tensorflow.python.training.checkpoint_management) is deprecated and will be removed in a future version.\n",
      "Instructions for updating:\n",
      "Use standard file utilities to get mtimes.\n",
      "INFO:tensorflow:Running local_init_op.\n",
      "INFO:tensorflow:Done running local_init_op.\n",
      "INFO:tensorflow:Calling checkpoint listeners before saving checkpoint 1...\n",
      "INFO:tensorflow:Saving checkpoints for 1 into /var/folders/9_/3m_lvmzs5t75xty5gvwr6wd558fj_g/T/tmp0jjl6ed5/model.ckpt.\n",
      "INFO:tensorflow:Calling checkpoint listeners after saving checkpoint 1...\n",
      "INFO:tensorflow:loss = 277860.0, step = 2\n",
      "INFO:tensorflow:Calling checkpoint listeners before saving checkpoint 2...\n",
      "INFO:tensorflow:Saving checkpoints for 2 into /var/folders/9_/3m_lvmzs5t75xty5gvwr6wd558fj_g/T/tmp0jjl6ed5/model.ckpt.\n",
      "INFO:tensorflow:Calling checkpoint listeners after saving checkpoint 2...\n",
      "INFO:tensorflow:Loss for final step: 277860.0.\n",
      "\n",
      "\n",
      "*********delta:\n",
      " [[ 66.42856  ]\n",
      " [ -0.3333664]\n",
      " [-49.620693 ]]\n",
      "INFO:tensorflow:Calling model_fn.\n",
      "INFO:tensorflow:Done calling model_fn.\n",
      "INFO:tensorflow:Starting evaluation at 2021-01-14T17:01:34Z\n",
      "INFO:tensorflow:Graph was finalized.\n",
      "INFO:tensorflow:Restoring parameters from /var/folders/9_/3m_lvmzs5t75xty5gvwr6wd558fj_g/T/tmp0jjl6ed5/model.ckpt-2\n",
      "INFO:tensorflow:Running local_init_op.\n",
      "INFO:tensorflow:Done running local_init_op.\n",
      "INFO:tensorflow:Evaluation [1/1]\n",
      "INFO:tensorflow:Inference Time : 0.27272s\n",
      "INFO:tensorflow:Finished evaluation at 2021-01-14-17:01:35\n",
      "INFO:tensorflow:Saving dict for global step 2: global_step = 2, loss = 33474.547, score = 33474.547\n",
      "INFO:tensorflow:Saving 'checkpoint_path' summary for global step 2: /var/folders/9_/3m_lvmzs5t75xty5gvwr6wd558fj_g/T/tmp0jjl6ed5/model.ckpt-2\n",
      "\n",
      "\n",
      "***********score: 33474.547\n",
      "INFO:tensorflow:Calling model_fn.\n",
      "INFO:tensorflow:Done calling model_fn.\n",
      "INFO:tensorflow:Create CheckpointSaverHook.\n",
      "INFO:tensorflow:Graph was finalized.\n",
      "INFO:tensorflow:Restoring parameters from /var/folders/9_/3m_lvmzs5t75xty5gvwr6wd558fj_g/T/tmp0jjl6ed5/model.ckpt-2\n",
      "INFO:tensorflow:Running local_init_op.\n",
      "INFO:tensorflow:Done running local_init_op.\n",
      "INFO:tensorflow:Calling checkpoint listeners before saving checkpoint 2...\n",
      "INFO:tensorflow:Saving checkpoints for 2 into /var/folders/9_/3m_lvmzs5t75xty5gvwr6wd558fj_g/T/tmp0jjl6ed5/model.ckpt.\n",
      "INFO:tensorflow:Calling checkpoint listeners after saving checkpoint 2...\n",
      "INFO:tensorflow:loss = 33474.547, step = 3\n",
      "INFO:tensorflow:Calling checkpoint listeners before saving checkpoint 3...\n",
      "INFO:tensorflow:Saving checkpoints for 3 into /var/folders/9_/3m_lvmzs5t75xty5gvwr6wd558fj_g/T/tmp0jjl6ed5/model.ckpt.\n",
      "INFO:tensorflow:Calling checkpoint listeners after saving checkpoint 3...\n",
      "INFO:tensorflow:Loss for final step: 33474.547.\n",
      "\n",
      "\n",
      "*********delta:\n",
      " [[ 24.271423 ]\n",
      " [  1.6333542]\n",
      " [-22.779308 ]]\n",
      "INFO:tensorflow:Calling model_fn.\n",
      "INFO:tensorflow:Done calling model_fn.\n",
      "INFO:tensorflow:Starting evaluation at 2021-01-14T17:01:36Z\n",
      "INFO:tensorflow:Graph was finalized.\n",
      "INFO:tensorflow:Restoring parameters from /var/folders/9_/3m_lvmzs5t75xty5gvwr6wd558fj_g/T/tmp0jjl6ed5/model.ckpt-3\n",
      "INFO:tensorflow:Running local_init_op.\n",
      "INFO:tensorflow:Done running local_init_op.\n",
      "INFO:tensorflow:Evaluation [1/1]\n",
      "INFO:tensorflow:Inference Time : 0.22605s\n",
      "INFO:tensorflow:Finished evaluation at 2021-01-14-17:01:36\n",
      "INFO:tensorflow:Saving dict for global step 3: global_step = 3, loss = 11261.174, score = 11261.174\n",
      "INFO:tensorflow:Saving 'checkpoint_path' summary for global step 3: /var/folders/9_/3m_lvmzs5t75xty5gvwr6wd558fj_g/T/tmp0jjl6ed5/model.ckpt-3\n",
      "\n",
      "\n",
      "***********score: 11261.174\n",
      "INFO:tensorflow:Calling model_fn.\n",
      "INFO:tensorflow:Done calling model_fn.\n",
      "INFO:tensorflow:Create CheckpointSaverHook.\n",
      "INFO:tensorflow:Graph was finalized.\n",
      "INFO:tensorflow:Restoring parameters from /var/folders/9_/3m_lvmzs5t75xty5gvwr6wd558fj_g/T/tmp0jjl6ed5/model.ckpt-3\n",
      "INFO:tensorflow:Running local_init_op.\n",
      "INFO:tensorflow:Done running local_init_op.\n",
      "INFO:tensorflow:Calling checkpoint listeners before saving checkpoint 3...\n",
      "INFO:tensorflow:Saving checkpoints for 3 into /var/folders/9_/3m_lvmzs5t75xty5gvwr6wd558fj_g/T/tmp0jjl6ed5/model.ckpt.\n",
      "INFO:tensorflow:Calling checkpoint listeners after saving checkpoint 3...\n",
      "INFO:tensorflow:loss = 11261.174, step = 4\n",
      "INFO:tensorflow:Calling checkpoint listeners before saving checkpoint 4...\n",
      "INFO:tensorflow:Saving checkpoints for 4 into /var/folders/9_/3m_lvmzs5t75xty5gvwr6wd558fj_g/T/tmp0jjl6ed5/model.ckpt.\n",
      "INFO:tensorflow:Calling checkpoint listeners after saving checkpoint 4...\n",
      "INFO:tensorflow:Loss for final step: 11261.174.\n",
      "\n",
      "\n",
      "*********delta:\n",
      " [[0.]\n",
      " [0.]\n",
      " [0.]]\n",
      "INFO:tensorflow:Calling model_fn.\n",
      "INFO:tensorflow:Done calling model_fn.\n",
      "INFO:tensorflow:Starting evaluation at 2021-01-14T17:01:37Z\n",
      "INFO:tensorflow:Graph was finalized.\n",
      "INFO:tensorflow:Restoring parameters from /var/folders/9_/3m_lvmzs5t75xty5gvwr6wd558fj_g/T/tmp0jjl6ed5/model.ckpt-4\n",
      "INFO:tensorflow:Running local_init_op.\n",
      "INFO:tensorflow:Done running local_init_op.\n",
      "INFO:tensorflow:Evaluation [1/1]\n",
      "INFO:tensorflow:Inference Time : 0.34236s\n",
      "INFO:tensorflow:Finished evaluation at 2021-01-14-17:01:38\n",
      "INFO:tensorflow:Saving dict for global step 4: global_step = 4, loss = 11261.174, score = 11261.174\n",
      "INFO:tensorflow:Saving 'checkpoint_path' summary for global step 4: /var/folders/9_/3m_lvmzs5t75xty5gvwr6wd558fj_g/T/tmp0jjl6ed5/model.ckpt-4\n"
     ]
    },
    {
     "name": "stdout",
     "output_type": "stream",
     "text": [
      "\n",
      "\n",
      "***********score: 11261.174\n",
      "INFO:tensorflow:Calling model_fn.\n",
      "INFO:tensorflow:Done calling model_fn.\n",
      "INFO:tensorflow:Create CheckpointSaverHook.\n",
      "INFO:tensorflow:Graph was finalized.\n",
      "INFO:tensorflow:Restoring parameters from /var/folders/9_/3m_lvmzs5t75xty5gvwr6wd558fj_g/T/tmp0jjl6ed5/model.ckpt-4\n",
      "INFO:tensorflow:Running local_init_op.\n",
      "INFO:tensorflow:Done running local_init_op.\n",
      "INFO:tensorflow:Calling checkpoint listeners before saving checkpoint 4...\n",
      "INFO:tensorflow:Saving checkpoints for 4 into /var/folders/9_/3m_lvmzs5t75xty5gvwr6wd558fj_g/T/tmp0jjl6ed5/model.ckpt.\n",
      "INFO:tensorflow:Calling checkpoint listeners after saving checkpoint 4...\n",
      "INFO:tensorflow:loss = 11261.174, step = 5\n",
      "INFO:tensorflow:Calling checkpoint listeners before saving checkpoint 5...\n",
      "INFO:tensorflow:Saving checkpoints for 5 into /var/folders/9_/3m_lvmzs5t75xty5gvwr6wd558fj_g/T/tmp0jjl6ed5/model.ckpt.\n",
      "WARNING:tensorflow:From /Users/sijia.li/py3_kernel/lib/python3.7/site-packages/tensorflow/python/training/saver.py:971: remove_checkpoint (from tensorflow.python.training.checkpoint_management) is deprecated and will be removed in a future version.\n",
      "Instructions for updating:\n",
      "Use standard file APIs to delete files with this prefix.\n",
      "INFO:tensorflow:Calling checkpoint listeners after saving checkpoint 5...\n",
      "INFO:tensorflow:Loss for final step: 11261.174.\n",
      "\n",
      "\n",
      "*********delta:\n",
      " [[0.]\n",
      " [0.]\n",
      " [0.]]\n",
      "INFO:tensorflow:Calling model_fn.\n",
      "INFO:tensorflow:Done calling model_fn.\n",
      "INFO:tensorflow:Starting evaluation at 2021-01-14T17:01:39Z\n",
      "INFO:tensorflow:Graph was finalized.\n",
      "INFO:tensorflow:Restoring parameters from /var/folders/9_/3m_lvmzs5t75xty5gvwr6wd558fj_g/T/tmp0jjl6ed5/model.ckpt-5\n",
      "INFO:tensorflow:Running local_init_op.\n",
      "INFO:tensorflow:Done running local_init_op.\n",
      "INFO:tensorflow:Evaluation [1/1]\n",
      "INFO:tensorflow:Inference Time : 0.23608s\n",
      "INFO:tensorflow:Finished evaluation at 2021-01-14-17:01:39\n",
      "INFO:tensorflow:Saving dict for global step 5: global_step = 5, loss = 11261.174, score = 11261.174\n",
      "INFO:tensorflow:Saving 'checkpoint_path' summary for global step 5: /var/folders/9_/3m_lvmzs5t75xty5gvwr6wd558fj_g/T/tmp0jjl6ed5/model.ckpt-5\n",
      "\n",
      "\n",
      "***********score: 11261.174\n",
      "INFO:tensorflow:Calling model_fn.\n",
      "INFO:tensorflow:Done calling model_fn.\n",
      "INFO:tensorflow:Create CheckpointSaverHook.\n",
      "INFO:tensorflow:Graph was finalized.\n",
      "INFO:tensorflow:Restoring parameters from /var/folders/9_/3m_lvmzs5t75xty5gvwr6wd558fj_g/T/tmp0jjl6ed5/model.ckpt-5\n",
      "INFO:tensorflow:Running local_init_op.\n",
      "INFO:tensorflow:Done running local_init_op.\n",
      "INFO:tensorflow:Calling checkpoint listeners before saving checkpoint 5...\n",
      "INFO:tensorflow:Saving checkpoints for 5 into /var/folders/9_/3m_lvmzs5t75xty5gvwr6wd558fj_g/T/tmp0jjl6ed5/model.ckpt.\n",
      "INFO:tensorflow:Calling checkpoint listeners after saving checkpoint 5...\n",
      "INFO:tensorflow:loss = 11261.174, step = 6\n",
      "INFO:tensorflow:Calling checkpoint listeners before saving checkpoint 6...\n",
      "INFO:tensorflow:Saving checkpoints for 6 into /var/folders/9_/3m_lvmzs5t75xty5gvwr6wd558fj_g/T/tmp0jjl6ed5/model.ckpt.\n",
      "INFO:tensorflow:Calling checkpoint listeners after saving checkpoint 6...\n",
      "INFO:tensorflow:Loss for final step: 11261.174.\n",
      "\n",
      "\n",
      "*********delta:\n",
      " [[0.]\n",
      " [0.]\n",
      " [0.]]\n",
      "INFO:tensorflow:Calling model_fn.\n",
      "INFO:tensorflow:Done calling model_fn.\n",
      "INFO:tensorflow:Starting evaluation at 2021-01-14T17:01:40Z\n",
      "INFO:tensorflow:Graph was finalized.\n",
      "INFO:tensorflow:Restoring parameters from /var/folders/9_/3m_lvmzs5t75xty5gvwr6wd558fj_g/T/tmp0jjl6ed5/model.ckpt-6\n",
      "INFO:tensorflow:Running local_init_op.\n",
      "INFO:tensorflow:Done running local_init_op.\n",
      "INFO:tensorflow:Evaluation [1/1]\n",
      "INFO:tensorflow:Inference Time : 0.13193s\n",
      "INFO:tensorflow:Finished evaluation at 2021-01-14-17:01:40\n",
      "INFO:tensorflow:Saving dict for global step 6: global_step = 6, loss = 11261.174, score = 11261.174\n",
      "INFO:tensorflow:Saving 'checkpoint_path' summary for global step 6: /var/folders/9_/3m_lvmzs5t75xty5gvwr6wd558fj_g/T/tmp0jjl6ed5/model.ckpt-6\n",
      "\n",
      "\n",
      "***********score: 11261.174\n",
      "INFO:tensorflow:Calling model_fn.\n",
      "INFO:tensorflow:Done calling model_fn.\n",
      "INFO:tensorflow:Create CheckpointSaverHook.\n",
      "INFO:tensorflow:Graph was finalized.\n",
      "INFO:tensorflow:Restoring parameters from /var/folders/9_/3m_lvmzs5t75xty5gvwr6wd558fj_g/T/tmp0jjl6ed5/model.ckpt-6\n",
      "INFO:tensorflow:Running local_init_op.\n",
      "INFO:tensorflow:Done running local_init_op.\n",
      "INFO:tensorflow:Calling checkpoint listeners before saving checkpoint 6...\n",
      "INFO:tensorflow:Saving checkpoints for 6 into /var/folders/9_/3m_lvmzs5t75xty5gvwr6wd558fj_g/T/tmp0jjl6ed5/model.ckpt.\n",
      "INFO:tensorflow:Calling checkpoint listeners after saving checkpoint 6...\n",
      "INFO:tensorflow:loss = 11261.174, step = 7\n",
      "INFO:tensorflow:Calling checkpoint listeners before saving checkpoint 7...\n",
      "INFO:tensorflow:Saving checkpoints for 7 into /var/folders/9_/3m_lvmzs5t75xty5gvwr6wd558fj_g/T/tmp0jjl6ed5/model.ckpt.\n",
      "INFO:tensorflow:Calling checkpoint listeners after saving checkpoint 7...\n",
      "INFO:tensorflow:Loss for final step: 11261.174.\n",
      "\n",
      "\n",
      "*********delta:\n",
      " [[0.]\n",
      " [0.]\n",
      " [0.]]\n",
      "INFO:tensorflow:Calling model_fn.\n",
      "INFO:tensorflow:Done calling model_fn.\n",
      "INFO:tensorflow:Starting evaluation at 2021-01-14T17:01:41Z\n",
      "INFO:tensorflow:Graph was finalized.\n",
      "INFO:tensorflow:Restoring parameters from /var/folders/9_/3m_lvmzs5t75xty5gvwr6wd558fj_g/T/tmp0jjl6ed5/model.ckpt-7\n",
      "INFO:tensorflow:Running local_init_op.\n",
      "INFO:tensorflow:Done running local_init_op.\n",
      "INFO:tensorflow:Evaluation [1/1]\n",
      "INFO:tensorflow:Inference Time : 0.17862s\n",
      "INFO:tensorflow:Finished evaluation at 2021-01-14-17:01:41\n",
      "INFO:tensorflow:Saving dict for global step 7: global_step = 7, loss = 11261.174, score = 11261.174\n",
      "INFO:tensorflow:Saving 'checkpoint_path' summary for global step 7: /var/folders/9_/3m_lvmzs5t75xty5gvwr6wd558fj_g/T/tmp0jjl6ed5/model.ckpt-7\n",
      "\n",
      "\n",
      "***********score: 11261.174\n",
      "INFO:tensorflow:Calling model_fn.\n",
      "INFO:tensorflow:Done calling model_fn.\n",
      "INFO:tensorflow:Create CheckpointSaverHook.\n",
      "INFO:tensorflow:Graph was finalized.\n",
      "INFO:tensorflow:Restoring parameters from /var/folders/9_/3m_lvmzs5t75xty5gvwr6wd558fj_g/T/tmp0jjl6ed5/model.ckpt-7\n",
      "INFO:tensorflow:Running local_init_op.\n",
      "INFO:tensorflow:Done running local_init_op.\n",
      "INFO:tensorflow:Calling checkpoint listeners before saving checkpoint 7...\n",
      "INFO:tensorflow:Saving checkpoints for 7 into /var/folders/9_/3m_lvmzs5t75xty5gvwr6wd558fj_g/T/tmp0jjl6ed5/model.ckpt.\n",
      "INFO:tensorflow:Calling checkpoint listeners after saving checkpoint 7...\n",
      "INFO:tensorflow:loss = 11261.174, step = 8\n",
      "INFO:tensorflow:Calling checkpoint listeners before saving checkpoint 8...\n",
      "INFO:tensorflow:Saving checkpoints for 8 into /var/folders/9_/3m_lvmzs5t75xty5gvwr6wd558fj_g/T/tmp0jjl6ed5/model.ckpt.\n",
      "INFO:tensorflow:Calling checkpoint listeners after saving checkpoint 8...\n",
      "INFO:tensorflow:Loss for final step: 11261.174.\n",
      "\n",
      "\n",
      "*********delta:\n",
      " [[0.]\n",
      " [0.]\n",
      " [0.]]\n",
      "INFO:tensorflow:Calling model_fn.\n",
      "INFO:tensorflow:Done calling model_fn.\n",
      "INFO:tensorflow:Starting evaluation at 2021-01-14T17:01:42Z\n",
      "INFO:tensorflow:Graph was finalized.\n",
      "INFO:tensorflow:Restoring parameters from /var/folders/9_/3m_lvmzs5t75xty5gvwr6wd558fj_g/T/tmp0jjl6ed5/model.ckpt-8\n",
      "INFO:tensorflow:Running local_init_op.\n",
      "INFO:tensorflow:Done running local_init_op.\n",
      "INFO:tensorflow:Evaluation [1/1]\n",
      "INFO:tensorflow:Inference Time : 0.19080s\n",
      "INFO:tensorflow:Finished evaluation at 2021-01-14-17:01:42\n",
      "INFO:tensorflow:Saving dict for global step 8: global_step = 8, loss = 11261.174, score = 11261.174\n",
      "INFO:tensorflow:Saving 'checkpoint_path' summary for global step 8: /var/folders/9_/3m_lvmzs5t75xty5gvwr6wd558fj_g/T/tmp0jjl6ed5/model.ckpt-8\n",
      "\n",
      "\n",
      "***********score: 11261.174\n",
      "INFO:tensorflow:Calling model_fn.\n",
      "INFO:tensorflow:Done calling model_fn.\n",
      "INFO:tensorflow:Create CheckpointSaverHook.\n",
      "INFO:tensorflow:Graph was finalized.\n",
      "INFO:tensorflow:Restoring parameters from /var/folders/9_/3m_lvmzs5t75xty5gvwr6wd558fj_g/T/tmp0jjl6ed5/model.ckpt-8\n",
      "INFO:tensorflow:Running local_init_op.\n",
      "INFO:tensorflow:Done running local_init_op.\n",
      "INFO:tensorflow:Calling checkpoint listeners before saving checkpoint 8...\n",
      "INFO:tensorflow:Saving checkpoints for 8 into /var/folders/9_/3m_lvmzs5t75xty5gvwr6wd558fj_g/T/tmp0jjl6ed5/model.ckpt.\n",
      "INFO:tensorflow:Calling checkpoint listeners after saving checkpoint 8...\n",
      "INFO:tensorflow:loss = 11261.174, step = 9\n"
     ]
    },
    {
     "name": "stdout",
     "output_type": "stream",
     "text": [
      "INFO:tensorflow:Calling checkpoint listeners before saving checkpoint 9...\n",
      "INFO:tensorflow:Saving checkpoints for 9 into /var/folders/9_/3m_lvmzs5t75xty5gvwr6wd558fj_g/T/tmp0jjl6ed5/model.ckpt.\n",
      "INFO:tensorflow:Calling checkpoint listeners after saving checkpoint 9...\n",
      "INFO:tensorflow:Loss for final step: 11261.174.\n",
      "\n",
      "\n",
      "*********delta:\n",
      " [[0.]\n",
      " [0.]\n",
      " [0.]]\n",
      "INFO:tensorflow:Calling model_fn.\n",
      "INFO:tensorflow:Done calling model_fn.\n",
      "INFO:tensorflow:Starting evaluation at 2021-01-14T17:01:43Z\n",
      "INFO:tensorflow:Graph was finalized.\n",
      "INFO:tensorflow:Restoring parameters from /var/folders/9_/3m_lvmzs5t75xty5gvwr6wd558fj_g/T/tmp0jjl6ed5/model.ckpt-9\n",
      "INFO:tensorflow:Running local_init_op.\n",
      "INFO:tensorflow:Done running local_init_op.\n",
      "INFO:tensorflow:Evaluation [1/1]\n",
      "INFO:tensorflow:Inference Time : 0.12126s\n",
      "INFO:tensorflow:Finished evaluation at 2021-01-14-17:01:43\n",
      "INFO:tensorflow:Saving dict for global step 9: global_step = 9, loss = 11261.174, score = 11261.174\n",
      "INFO:tensorflow:Saving 'checkpoint_path' summary for global step 9: /var/folders/9_/3m_lvmzs5t75xty5gvwr6wd558fj_g/T/tmp0jjl6ed5/model.ckpt-9\n",
      "\n",
      "\n",
      "***********score: 11261.174\n",
      "INFO:tensorflow:Calling model_fn.\n",
      "INFO:tensorflow:Done calling model_fn.\n",
      "INFO:tensorflow:Create CheckpointSaverHook.\n",
      "INFO:tensorflow:Graph was finalized.\n",
      "INFO:tensorflow:Restoring parameters from /var/folders/9_/3m_lvmzs5t75xty5gvwr6wd558fj_g/T/tmp0jjl6ed5/model.ckpt-9\n",
      "INFO:tensorflow:Running local_init_op.\n",
      "INFO:tensorflow:Done running local_init_op.\n",
      "INFO:tensorflow:Calling checkpoint listeners before saving checkpoint 9...\n",
      "INFO:tensorflow:Saving checkpoints for 9 into /var/folders/9_/3m_lvmzs5t75xty5gvwr6wd558fj_g/T/tmp0jjl6ed5/model.ckpt.\n",
      "INFO:tensorflow:Calling checkpoint listeners after saving checkpoint 9...\n",
      "INFO:tensorflow:loss = 11261.174, step = 10\n",
      "INFO:tensorflow:Calling checkpoint listeners before saving checkpoint 10...\n",
      "INFO:tensorflow:Saving checkpoints for 10 into /var/folders/9_/3m_lvmzs5t75xty5gvwr6wd558fj_g/T/tmp0jjl6ed5/model.ckpt.\n",
      "INFO:tensorflow:Calling checkpoint listeners after saving checkpoint 10...\n",
      "INFO:tensorflow:Loss for final step: 11261.174.\n",
      "\n",
      "\n",
      "*********delta:\n",
      " [[0.]\n",
      " [0.]\n",
      " [0.]]\n",
      "INFO:tensorflow:Calling model_fn.\n",
      "INFO:tensorflow:Done calling model_fn.\n",
      "INFO:tensorflow:Starting evaluation at 2021-01-14T17:01:44Z\n",
      "INFO:tensorflow:Graph was finalized.\n",
      "INFO:tensorflow:Restoring parameters from /var/folders/9_/3m_lvmzs5t75xty5gvwr6wd558fj_g/T/tmp0jjl6ed5/model.ckpt-10\n",
      "INFO:tensorflow:Running local_init_op.\n",
      "INFO:tensorflow:Done running local_init_op.\n",
      "INFO:tensorflow:Evaluation [1/1]\n",
      "INFO:tensorflow:Inference Time : 0.15816s\n",
      "INFO:tensorflow:Finished evaluation at 2021-01-14-17:01:44\n",
      "INFO:tensorflow:Saving dict for global step 10: global_step = 10, loss = 11261.174, score = 11261.174\n",
      "INFO:tensorflow:Saving 'checkpoint_path' summary for global step 10: /var/folders/9_/3m_lvmzs5t75xty5gvwr6wd558fj_g/T/tmp0jjl6ed5/model.ckpt-10\n",
      "\n",
      "\n",
      "***********score: 11261.174\n",
      "\n",
      "\n",
      "***********cluster center: [[209.69998 ]\n",
      " [110.29999 ]\n",
      " [ 24.599998]]\n"
     ]
    }
   ],
   "source": [
    "num_iteration = 10\n",
    "previous_center = None\n",
    "\n",
    "# tf v2 is based on eager excuator \n",
    "import tensorflow.compat.v1 as tf\n",
    "tf.disable_v2_behavior()\n",
    "\n",
    "for _ in range(num_iteration):\n",
    "    kmean_estimator.train(input_fn=lambda: input_fn(random_x),steps = 1)\n",
    "    cluster_center = kmean_estimator.cluster_centers()\n",
    "    \n",
    "    if previous_center is not None:\n",
    "        print('\\n\\n*********delta:\\n', cluster_center-previous_center)\n",
    "    previous_center = cluster_center\n",
    "    \n",
    "    print('\\n\\n***********score:', kmean_estimator.score(input_fn=lambda:input_fn(random_x)))\n",
    "    \n",
    "print('\\n\\n***********cluster center:',cluster_center)"
   ]
  },
  {
   "cell_type": "code",
   "execution_count": 23,
   "metadata": {
    "scrolled": true
   },
   "outputs": [
    {
     "data": {
      "text/plain": [
       "<matplotlib.collections.PathCollection at 0x141175b70>"
      ]
     },
     "execution_count": 23,
     "metadata": {},
     "output_type": "execute_result"
    },
    {
     "data": {
      "image/png": "[encoded data removed]",
      "text/plain": [
       "<Figure size 432x288 with 1 Axes>"
      ]
     },
     "metadata": {
      "needs_background": "light"
     },
     "output_type": "display_data"
    }
   ],
   "source": [
    "fig, ax = plt.subplots()\n",
    "\n",
    "ax.scatter(random_x, np.zeros_like(random_x), s=700, c='g',edgecolors = 'grey',alpha=0.4)\n",
    "ax.scatter(cluster_center,np.zeros_like(cluster_center),s=500, c='r', marker='d')"
   ]
  },
  {
   "cell_type": "code",
   "execution_count": 25,
   "metadata": {
    "scrolled": true
   },
   "outputs": [
    {
     "name": "stdout",
     "output_type": "stream",
     "text": [
      "WARNING:tensorflow:Input graph does not use tf.data.Dataset or contain a QueueRunner. That means predict yields forever. This is probably a mistake.\n",
      "INFO:tensorflow:Calling model_fn.\n",
      "INFO:tensorflow:Done calling model_fn.\n",
      "INFO:tensorflow:Graph was finalized.\n",
      "INFO:tensorflow:Restoring parameters from /var/folders/9_/3m_lvmzs5t75xty5gvwr6wd558fj_g/T/tmp0jjl6ed5/model.ckpt-10\n",
      "INFO:tensorflow:Running local_init_op.\n",
      "INFO:tensorflow:Done running local_init_op.\n",
      "Point: 24.0  is in cluster  2  centered at  [24.599998]\n",
      "Point: 170.0  is in cluster  0  centered at  [209.69998]\n",
      "Point: 100.0  is in cluster  1  centered at  [110.29999]\n"
     ]
    }
   ],
   "source": [
    "test_x = np.array([24,170,100],dtype = np.float32)\n",
    "\n",
    "cluster_indices = list(kmean_estimator.predict_cluster_index(input_fn=lambda:input_fn(test_x)))\n",
    "\n",
    "for i, point in enumerate(test_x):\n",
    "    cluster_index = cluster_indices[i]\n",
    "    center = cluster_center[cluster_index]\n",
    "    \n",
    "    print('Point:', point, ' is in cluster ', cluster_index, ' centered at ', center)"
   ]
  },
  {
   "cell_type": "code",
   "execution_count": 3,
   "metadata": {},
   "outputs": [
    {
     "name": "stdout",
     "output_type": "stream",
     "text": [
      "WARNING:tensorflow:From /Users/sijia.li/py3_kernel/lib/python3.7/site-packages/tensorflow/python/compat/v2_compat.py:96: disable_resource_variables (from tensorflow.python.ops.variable_scope) is deprecated and will be removed in a future version.\n",
      "Instructions for updating:\n",
      "non-resource variables are not supported in the long term\n"
     ]
    }
   ],
   "source": [
    "import tensorflow.compat.v1 as tf\n",
    "tf.disable_v2_behavior()"
   ]
  },
  {
   "cell_type": "markdown",
   "metadata": {},
   "source": [
    "### Iris dataset"
   ]
  },
  {
   "cell_type": "code",
   "execution_count": 11,
   "metadata": {},
   "outputs": [],
   "source": [
    "import os\n",
    "cwd = os.getcwd()"
   ]
  },
  {
   "cell_type": "code",
   "execution_count": 15,
   "metadata": {},
   "outputs": [],
   "source": [
    "import pandas as pd\n",
    "iris_df=pd.read_csv(cwd+'/data/iris.csv', header=0)"
   ]
  },
  {
   "cell_type": "code",
   "execution_count": 16,
   "metadata": {
    "scrolled": true
   },
   "outputs": [
    {
     "data": {
      "text/html": [
       "<div>\n",
       "<style scoped>\n",
       "    .dataframe tbody tr th:only-of-type {\n",
       "        vertical-align: middle;\n",
       "    }\n",
       "\n",
       "    .dataframe tbody tr th {\n",
       "        vertical-align: top;\n",
       "    }\n",
       "\n",
       "    .dataframe thead th {\n",
       "        text-align: right;\n",
       "    }\n",
       "</style>\n",
       "<table border=\"1\" class=\"dataframe\">\n",
       "  <thead>\n",
       "    <tr style=\"text-align: right;\">\n",
       "      <th></th>\n",
       "      <th>5.1</th>\n",
       "      <th>3.5</th>\n",
       "      <th>1.4</th>\n",
       "      <th>0.2</th>\n",
       "      <th>Iris-setosa</th>\n",
       "    </tr>\n",
       "  </thead>\n",
       "  <tbody>\n",
       "    <tr>\n",
       "      <th>0</th>\n",
       "      <td>4.9</td>\n",
       "      <td>3.0</td>\n",
       "      <td>1.4</td>\n",
       "      <td>0.2</td>\n",
       "      <td>Iris-setosa</td>\n",
       "    </tr>\n",
       "    <tr>\n",
       "      <th>1</th>\n",
       "      <td>4.7</td>\n",
       "      <td>3.2</td>\n",
       "      <td>1.3</td>\n",
       "      <td>0.2</td>\n",
       "      <td>Iris-setosa</td>\n",
       "    </tr>\n",
       "    <tr>\n",
       "      <th>2</th>\n",
       "      <td>4.6</td>\n",
       "      <td>3.1</td>\n",
       "      <td>1.5</td>\n",
       "      <td>0.2</td>\n",
       "      <td>Iris-setosa</td>\n",
       "    </tr>\n",
       "    <tr>\n",
       "      <th>3</th>\n",
       "      <td>5.0</td>\n",
       "      <td>3.6</td>\n",
       "      <td>1.4</td>\n",
       "      <td>0.2</td>\n",
       "      <td>Iris-setosa</td>\n",
       "    </tr>\n",
       "    <tr>\n",
       "      <th>4</th>\n",
       "      <td>5.4</td>\n",
       "      <td>3.9</td>\n",
       "      <td>1.7</td>\n",
       "      <td>0.4</td>\n",
       "      <td>Iris-setosa</td>\n",
       "    </tr>\n",
       "  </tbody>\n",
       "</table>\n",
       "</div>"
      ],
      "text/plain": [
       "   5.1  3.5  1.4  0.2  Iris-setosa\n",
       "0  4.9  3.0  1.4  0.2  Iris-setosa\n",
       "1  4.7  3.2  1.3  0.2  Iris-setosa\n",
       "2  4.6  3.1  1.5  0.2  Iris-setosa\n",
       "3  5.0  3.6  1.4  0.2  Iris-setosa\n",
       "4  5.4  3.9  1.7  0.4  Iris-setosa"
      ]
     },
     "execution_count": 16,
     "metadata": {},
     "output_type": "execute_result"
    }
   ],
   "source": [
    "iris_df.head()"
   ]
  }
 ],
 "metadata": {
  "kernelspec": {
   "display_name": "py3",
   "language": "python",
   "name": "py3"
  },
  "language_info": {
   "codemirror_mode": {
    "name": "ipython",
    "version": 3
   },
   "file_extension": ".py",
   "mimetype": "text/x-python",
   "name": "python",
   "nbconvert_exporter": "python",
   "pygments_lexer": "ipython3",
   "version": "3.7.0b4"
  }
 },
 "nbformat": 4,
 "nbformat_minor": 2
}
