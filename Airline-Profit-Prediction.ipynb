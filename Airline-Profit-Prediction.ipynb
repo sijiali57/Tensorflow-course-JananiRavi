{
 "cells": [
  {
   "cell_type": "markdown",
   "metadata": {},
   "source": [
    "## Airline Profit Prediction\n",
    "\n",
    "### Model Type\n",
    "Multi-variable regression model\n",
    "\n",
    "### X values\n",
    "* Oil price\n",
    "* Number of tourists\n",
    "\n",
    "### Y value\n",
    "Airline profit\n",
    "\n",
    "-- somehow this example is only for high-level explaination "
   ]
  },
  {
   "cell_type": "code",
   "execution_count": null,
   "metadata": {},
   "outputs": [],
   "source": []
  }
 ],
 "metadata": {
  "kernelspec": {
   "display_name": "py3",
   "language": "python",
   "name": "py3"
  },
  "language_info": {
   "codemirror_mode": {
    "name": "ipython",
    "version": 3
   },
   "file_extension": ".py",
   "mimetype": "text/x-python",
   "name": "python",
   "nbconvert_exporter": "python",
   "pygments_lexer": "ipython3",
   "version": "3.7.0b4"
  }
 },
 "nbformat": 4,
 "nbformat_minor": 2
}
